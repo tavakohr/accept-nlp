{
 "cells": [
  {
   "cell_type": "markdown",
   "metadata": {},
   "source": [
    "[![Open In Colab](https://colab.research.google.com/assets/colab-badge.svg)](https://colab.research.google.com/github/tavakohr/accept-nlp/blob/master/app/ericeda.ipynb)"
   ]
  },
  {
   "cell_type": "code",
   "execution_count": null,
   "metadata": {},
   "outputs": [],
   "source": [
    "import pandas as pd\n",
    "import numpy as np\n",
    "\n",
    "from sklearn.model_selection import (\n",
    "    GridSearchCV,\n",
    "    RandomizedSearchCV,\n",
    "    cross_val_score,\n",
    "    cross_validate,\n",
    "    train_test_split,\n",
    ")\n",
    "from sklearn.compose import ColumnTransformer, make_column_transformer\n",
    "from sklearn.dummy import DummyClassifier\n",
    "from sklearn.linear_model import LogisticRegression\n",
    "from sklearn.preprocessing import OneHotEncoder, OrdinalEncoder, StandardScaler\n",
    "from sklearn.pipeline import Pipeline, make_pipeline\n",
    "from lightgbm.sklearn import LGBMClassifier\n",
    "from xgboost import XGBClassifier"
   ]
  },
  {
   "cell_type": "code",
   "execution_count": 6,
   "metadata": {},
   "outputs": [],
   "source": [
    "#!pip install lightgbm\n",
    "#!pip install xgboost\n"
   ]
  },
  {
   "cell_type": "markdown",
   "metadata": {},
   "source": [
    "### 1. Read Data"
   ]
  },
  {
   "cell_type": "code",
   "execution_count": 2,
   "metadata": {},
   "outputs": [],
   "source": [
    "clean_df = pd.read_csv('../data/clean/Data_tte_DataScience.csv')"
   ]
  },
  {
   "cell_type": "code",
   "execution_count": 3,
   "metadata": {},
   "outputs": [
    {
     "name": "stdout",
     "output_type": "stream",
     "text": [
      "<class 'pandas.core.frame.DataFrame'>\n",
      "RangeIndex: 5134 entries, 0 to 5133\n",
      "Data columns (total 21 columns):\n",
      " #   Column                   Non-Null Count  Dtype  \n",
      "---  ------                   --------------  -----  \n",
      " 0   ID                       5134 non-null   object \n",
      " 1   trial                    5134 non-null   object \n",
      " 2   tte0                     5134 non-null   float64\n",
      " 3   event                    5134 non-null   int64  \n",
      " 4   gender                   5134 non-null   int64  \n",
      " 5   age10                    5134 non-null   float64\n",
      " 6   nowsmk                   5134 non-null   int64  \n",
      " 7   oxygen                   5134 non-null   int64  \n",
      " 8   fev1pp100                5134 non-null   float64\n",
      " 9   bmi10                    5134 non-null   float64\n",
      " 10  sgrq10                   5134 non-null   float64\n",
      " 11  indicated_statin         5134 non-null   int64  \n",
      " 12  randomized_azithromycin  5134 non-null   int64  \n",
      " 13  LAMA                     5134 non-null   int64  \n",
      " 14  LABA                     5134 non-null   int64  \n",
      " 15  ICS                      5134 non-null   int64  \n",
      " 16  randomized_LAMA          5134 non-null   int64  \n",
      " 17  randomized_LABA          5134 non-null   int64  \n",
      " 18  randomized_ICS           5134 non-null   int64  \n",
      " 19  randomized_statin        5134 non-null   int64  \n",
      " 20  YIS                      5134 non-null   float64\n",
      "dtypes: float64(6), int64(13), object(2)\n",
      "memory usage: 842.4+ KB\n"
     ]
    }
   ],
   "source": [
    "clean_df.info()"
   ]
  },
  {
   "cell_type": "code",
   "execution_count": 9,
   "metadata": {},
   "outputs": [
    {
     "data": {
      "text/plain": [
       "2249"
      ]
     },
     "execution_count": 9,
     "metadata": {},
     "output_type": "execute_result"
    }
   ],
   "source": [
    "clean_df['ID'].nunique()"
   ]
  },
  {
   "cell_type": "code",
   "execution_count": 5,
   "metadata": {},
   "outputs": [],
   "source": [
    "import matplotlib.pyplot as plt"
   ]
  },
  {
   "cell_type": "code",
   "execution_count": 6,
   "metadata": {},
   "outputs": [],
   "source": [
    "from pylab import rcParams"
   ]
  },
  {
   "cell_type": "code",
   "execution_count": 7,
   "metadata": {},
   "outputs": [],
   "source": [
    "#!pip install pandas_profiling\n",
    "from pandas_profiling import ProfileReport"
   ]
  },
  {
   "cell_type": "code",
   "execution_count": 8,
   "metadata": {},
   "outputs": [
    {
     "ename": "NameError",
     "evalue": "name 'unique_patients' is not defined",
     "output_type": "error",
     "traceback": [
      "\u001b[1;31m---------------------------------------------------------------------------\u001b[0m",
      "\u001b[1;31mNameError\u001b[0m                                 Traceback (most recent call last)",
      "\u001b[1;32m<ipython-input-8-9f1ae032073f>\u001b[0m in \u001b[0;36m<module>\u001b[1;34m\u001b[0m\n\u001b[1;32m----> 1\u001b[1;33m \u001b[0mprofile\u001b[0m \u001b[1;33m=\u001b[0m \u001b[0mProfileReport\u001b[0m\u001b[1;33m(\u001b[0m\u001b[0munique_patients\u001b[0m\u001b[1;33m,\u001b[0m \u001b[0mtitle\u001b[0m\u001b[1;33m=\u001b[0m\u001b[1;34m'Pandas Profiling Report'\u001b[0m\u001b[1;33m)\u001b[0m \u001b[1;31m#, minimal=True)\u001b[0m\u001b[1;33m\u001b[0m\u001b[1;33m\u001b[0m\u001b[0m\n\u001b[0m\u001b[0;32m      2\u001b[0m \u001b[0mprofile\u001b[0m\u001b[1;33m.\u001b[0m\u001b[0mto_notebook_iframe\u001b[0m\u001b[1;33m(\u001b[0m\u001b[1;33m)\u001b[0m\u001b[1;33m\u001b[0m\u001b[1;33m\u001b[0m\u001b[0m\n",
      "\u001b[1;31mNameError\u001b[0m: name 'unique_patients' is not defined"
     ]
    }
   ],
   "source": [
    "\n",
    "\n",
    "profile = ProfileReport(unique_patients, title='Pandas Profiling Report') #, minimal=True)\n",
    "profile.to_notebook_iframe()"
   ]
  },
  {
   "cell_type": "code",
   "execution_count": 6,
   "metadata": {},
   "outputs": [],
   "source": [
    "unique_patients = clean_df.copy()\n",
    "unique_patients = unique_patients.drop(columns=['tte0', 'event'])\n",
    "unique_patients = unique_patients.drop_duplicates(subset='ID')\n",
    "unique_patients['exacerbation_frequency'] = clean_df.groupby(by='ID')['event'].sum().tolist()\n",
    "unique_patients['censor_time'] = clean_df.groupby(by='ID')['tte0'].max().tolist()\n",
    "unique_patients['target'] = unique_patients['exacerbation_frequency'].apply(lambda x: 1 if x >= 2 else 0)"
   ]
  },
  {
   "cell_type": "code",
   "execution_count": 7,
   "metadata": {},
   "outputs": [
    {
     "data": {
      "text/html": [
       "<div>\n",
       "<style scoped>\n",
       "    .dataframe tbody tr th:only-of-type {\n",
       "        vertical-align: middle;\n",
       "    }\n",
       "\n",
       "    .dataframe tbody tr th {\n",
       "        vertical-align: top;\n",
       "    }\n",
       "\n",
       "    .dataframe thead th {\n",
       "        text-align: right;\n",
       "    }\n",
       "</style>\n",
       "<table border=\"1\" class=\"dataframe\">\n",
       "  <thead>\n",
       "    <tr style=\"text-align: right;\">\n",
       "      <th></th>\n",
       "      <th>ID</th>\n",
       "      <th>trial</th>\n",
       "      <th>gender</th>\n",
       "      <th>age10</th>\n",
       "      <th>nowsmk</th>\n",
       "      <th>oxygen</th>\n",
       "      <th>fev1pp100</th>\n",
       "      <th>bmi10</th>\n",
       "      <th>sgrq10</th>\n",
       "      <th>indicated_statin</th>\n",
       "      <th>...</th>\n",
       "      <th>LABA</th>\n",
       "      <th>ICS</th>\n",
       "      <th>randomized_LAMA</th>\n",
       "      <th>randomized_LABA</th>\n",
       "      <th>randomized_ICS</th>\n",
       "      <th>randomized_statin</th>\n",
       "      <th>YIS</th>\n",
       "      <th>exacerbation_frequency</th>\n",
       "      <th>censor_time</th>\n",
       "      <th>target</th>\n",
       "    </tr>\n",
       "  </thead>\n",
       "  <tbody>\n",
       "    <tr>\n",
       "      <th>0</th>\n",
       "      <td>1001-OPTIM</td>\n",
       "      <td>OPTIMAL</td>\n",
       "      <td>0</td>\n",
       "      <td>5.716406</td>\n",
       "      <td>1</td>\n",
       "      <td>0</td>\n",
       "      <td>0.260000</td>\n",
       "      <td>4.927095</td>\n",
       "      <td>8.361236</td>\n",
       "      <td>1</td>\n",
       "      <td>...</td>\n",
       "      <td>0</td>\n",
       "      <td>1</td>\n",
       "      <td>1</td>\n",
       "      <td>1</td>\n",
       "      <td>0</td>\n",
       "      <td>0</td>\n",
       "      <td>0.996578</td>\n",
       "      <td>3</td>\n",
       "      <td>0.996578</td>\n",
       "      <td>1</td>\n",
       "    </tr>\n",
       "    <tr>\n",
       "      <th>3</th>\n",
       "      <td>1003-OPTIM</td>\n",
       "      <td>OPTIMAL</td>\n",
       "      <td>0</td>\n",
       "      <td>7.512500</td>\n",
       "      <td>0</td>\n",
       "      <td>1</td>\n",
       "      <td>0.310000</td>\n",
       "      <td>2.753906</td>\n",
       "      <td>3.041059</td>\n",
       "      <td>0</td>\n",
       "      <td>...</td>\n",
       "      <td>0</td>\n",
       "      <td>1</td>\n",
       "      <td>1</td>\n",
       "      <td>0</td>\n",
       "      <td>0</td>\n",
       "      <td>0</td>\n",
       "      <td>0.996578</td>\n",
       "      <td>8</td>\n",
       "      <td>0.996578</td>\n",
       "      <td>1</td>\n",
       "    </tr>\n",
       "    <tr>\n",
       "      <th>8</th>\n",
       "      <td>1004-OPTIM</td>\n",
       "      <td>OPTIMAL</td>\n",
       "      <td>1</td>\n",
       "      <td>7.104687</td>\n",
       "      <td>0</td>\n",
       "      <td>0</td>\n",
       "      <td>0.360000</td>\n",
       "      <td>2.713490</td>\n",
       "      <td>5.433148</td>\n",
       "      <td>0</td>\n",
       "      <td>...</td>\n",
       "      <td>0</td>\n",
       "      <td>0</td>\n",
       "      <td>1</td>\n",
       "      <td>1</td>\n",
       "      <td>0</td>\n",
       "      <td>0</td>\n",
       "      <td>0.999316</td>\n",
       "      <td>7</td>\n",
       "      <td>0.999316</td>\n",
       "      <td>1</td>\n",
       "    </tr>\n",
       "    <tr>\n",
       "      <th>15</th>\n",
       "      <td>1005-OPTIM</td>\n",
       "      <td>OPTIMAL</td>\n",
       "      <td>0</td>\n",
       "      <td>6.723438</td>\n",
       "      <td>0</td>\n",
       "      <td>0</td>\n",
       "      <td>0.340000</td>\n",
       "      <td>2.372529</td>\n",
       "      <td>3.592873</td>\n",
       "      <td>0</td>\n",
       "      <td>...</td>\n",
       "      <td>0</td>\n",
       "      <td>1</td>\n",
       "      <td>1</td>\n",
       "      <td>1</td>\n",
       "      <td>1</td>\n",
       "      <td>0</td>\n",
       "      <td>0.996578</td>\n",
       "      <td>1</td>\n",
       "      <td>0.996578</td>\n",
       "      <td>0</td>\n",
       "    </tr>\n",
       "    <tr>\n",
       "      <th>17</th>\n",
       "      <td>1006-OPTIM</td>\n",
       "      <td>OPTIMAL</td>\n",
       "      <td>0</td>\n",
       "      <td>6.112500</td>\n",
       "      <td>0</td>\n",
       "      <td>1</td>\n",
       "      <td>0.580000</td>\n",
       "      <td>3.565134</td>\n",
       "      <td>7.351983</td>\n",
       "      <td>0</td>\n",
       "      <td>...</td>\n",
       "      <td>1</td>\n",
       "      <td>1</td>\n",
       "      <td>1</td>\n",
       "      <td>1</td>\n",
       "      <td>1</td>\n",
       "      <td>0</td>\n",
       "      <td>0.996578</td>\n",
       "      <td>2</td>\n",
       "      <td>0.996578</td>\n",
       "      <td>1</td>\n",
       "    </tr>\n",
       "    <tr>\n",
       "      <th>...</th>\n",
       "      <td>...</td>\n",
       "      <td>...</td>\n",
       "      <td>...</td>\n",
       "      <td>...</td>\n",
       "      <td>...</td>\n",
       "      <td>...</td>\n",
       "      <td>...</td>\n",
       "      <td>...</td>\n",
       "      <td>...</td>\n",
       "      <td>...</td>\n",
       "      <td>...</td>\n",
       "      <td>...</td>\n",
       "      <td>...</td>\n",
       "      <td>...</td>\n",
       "      <td>...</td>\n",
       "      <td>...</td>\n",
       "      <td>...</td>\n",
       "      <td>...</td>\n",
       "      <td>...</td>\n",
       "      <td>...</td>\n",
       "      <td>...</td>\n",
       "    </tr>\n",
       "    <tr>\n",
       "      <th>5124</th>\n",
       "      <td>S107029-STATC</td>\n",
       "      <td>STATCOPE</td>\n",
       "      <td>0</td>\n",
       "      <td>8.000000</td>\n",
       "      <td>0</td>\n",
       "      <td>1</td>\n",
       "      <td>0.246274</td>\n",
       "      <td>2.247659</td>\n",
       "      <td>4.419430</td>\n",
       "      <td>0</td>\n",
       "      <td>...</td>\n",
       "      <td>1</td>\n",
       "      <td>1</td>\n",
       "      <td>0</td>\n",
       "      <td>0</td>\n",
       "      <td>0</td>\n",
       "      <td>1</td>\n",
       "      <td>0.999316</td>\n",
       "      <td>3</td>\n",
       "      <td>0.999316</td>\n",
       "      <td>1</td>\n",
       "    </tr>\n",
       "    <tr>\n",
       "      <th>5128</th>\n",
       "      <td>S107037-STATC</td>\n",
       "      <td>STATCOPE</td>\n",
       "      <td>1</td>\n",
       "      <td>7.300000</td>\n",
       "      <td>0</td>\n",
       "      <td>1</td>\n",
       "      <td>0.346282</td>\n",
       "      <td>1.988571</td>\n",
       "      <td>5.341910</td>\n",
       "      <td>0</td>\n",
       "      <td>...</td>\n",
       "      <td>1</td>\n",
       "      <td>1</td>\n",
       "      <td>0</td>\n",
       "      <td>0</td>\n",
       "      <td>0</td>\n",
       "      <td>0</td>\n",
       "      <td>0.999316</td>\n",
       "      <td>1</td>\n",
       "      <td>0.999316</td>\n",
       "      <td>0</td>\n",
       "    </tr>\n",
       "    <tr>\n",
       "      <th>5130</th>\n",
       "      <td>S107045-STATC</td>\n",
       "      <td>STATCOPE</td>\n",
       "      <td>1</td>\n",
       "      <td>7.400000</td>\n",
       "      <td>0</td>\n",
       "      <td>1</td>\n",
       "      <td>0.462054</td>\n",
       "      <td>3.036735</td>\n",
       "      <td>5.154660</td>\n",
       "      <td>0</td>\n",
       "      <td>...</td>\n",
       "      <td>1</td>\n",
       "      <td>0</td>\n",
       "      <td>0</td>\n",
       "      <td>0</td>\n",
       "      <td>0</td>\n",
       "      <td>1</td>\n",
       "      <td>0.711841</td>\n",
       "      <td>0</td>\n",
       "      <td>0.711841</td>\n",
       "      <td>0</td>\n",
       "    </tr>\n",
       "    <tr>\n",
       "      <th>5131</th>\n",
       "      <td>S107052-STATC</td>\n",
       "      <td>STATCOPE</td>\n",
       "      <td>1</td>\n",
       "      <td>5.600000</td>\n",
       "      <td>0</td>\n",
       "      <td>1</td>\n",
       "      <td>0.197229</td>\n",
       "      <td>3.160011</td>\n",
       "      <td>6.807290</td>\n",
       "      <td>0</td>\n",
       "      <td>...</td>\n",
       "      <td>1</td>\n",
       "      <td>1</td>\n",
       "      <td>0</td>\n",
       "      <td>0</td>\n",
       "      <td>0</td>\n",
       "      <td>0</td>\n",
       "      <td>0.517454</td>\n",
       "      <td>1</td>\n",
       "      <td>0.517454</td>\n",
       "      <td>0</td>\n",
       "    </tr>\n",
       "    <tr>\n",
       "      <th>5133</th>\n",
       "      <td>S107060-STATC</td>\n",
       "      <td>STATCOPE</td>\n",
       "      <td>0</td>\n",
       "      <td>7.300000</td>\n",
       "      <td>0</td>\n",
       "      <td>0</td>\n",
       "      <td>0.552462</td>\n",
       "      <td>2.596953</td>\n",
       "      <td>1.106500</td>\n",
       "      <td>0</td>\n",
       "      <td>...</td>\n",
       "      <td>1</td>\n",
       "      <td>1</td>\n",
       "      <td>0</td>\n",
       "      <td>0</td>\n",
       "      <td>0</td>\n",
       "      <td>0</td>\n",
       "      <td>0.506502</td>\n",
       "      <td>0</td>\n",
       "      <td>0.506502</td>\n",
       "      <td>0</td>\n",
       "    </tr>\n",
       "  </tbody>\n",
       "</table>\n",
       "<p>2249 rows × 22 columns</p>\n",
       "</div>"
      ],
      "text/plain": [
       "                 ID     trial  gender     age10  nowsmk  oxygen  fev1pp100  \\\n",
       "0        1001-OPTIM   OPTIMAL       0  5.716406       1       0   0.260000   \n",
       "3        1003-OPTIM   OPTIMAL       0  7.512500       0       1   0.310000   \n",
       "8        1004-OPTIM   OPTIMAL       1  7.104687       0       0   0.360000   \n",
       "15       1005-OPTIM   OPTIMAL       0  6.723438       0       0   0.340000   \n",
       "17       1006-OPTIM   OPTIMAL       0  6.112500       0       1   0.580000   \n",
       "...             ...       ...     ...       ...     ...     ...        ...   \n",
       "5124  S107029-STATC  STATCOPE       0  8.000000       0       1   0.246274   \n",
       "5128  S107037-STATC  STATCOPE       1  7.300000       0       1   0.346282   \n",
       "5130  S107045-STATC  STATCOPE       1  7.400000       0       1   0.462054   \n",
       "5131  S107052-STATC  STATCOPE       1  5.600000       0       1   0.197229   \n",
       "5133  S107060-STATC  STATCOPE       0  7.300000       0       0   0.552462   \n",
       "\n",
       "         bmi10    sgrq10  indicated_statin  ...  LABA  ICS  randomized_LAMA  \\\n",
       "0     4.927095  8.361236                 1  ...     0    1                1   \n",
       "3     2.753906  3.041059                 0  ...     0    1                1   \n",
       "8     2.713490  5.433148                 0  ...     0    0                1   \n",
       "15    2.372529  3.592873                 0  ...     0    1                1   \n",
       "17    3.565134  7.351983                 0  ...     1    1                1   \n",
       "...        ...       ...               ...  ...   ...  ...              ...   \n",
       "5124  2.247659  4.419430                 0  ...     1    1                0   \n",
       "5128  1.988571  5.341910                 0  ...     1    1                0   \n",
       "5130  3.036735  5.154660                 0  ...     1    0                0   \n",
       "5131  3.160011  6.807290                 0  ...     1    1                0   \n",
       "5133  2.596953  1.106500                 0  ...     1    1                0   \n",
       "\n",
       "      randomized_LABA  randomized_ICS  randomized_statin       YIS  \\\n",
       "0                   1               0                  0  0.996578   \n",
       "3                   0               0                  0  0.996578   \n",
       "8                   1               0                  0  0.999316   \n",
       "15                  1               1                  0  0.996578   \n",
       "17                  1               1                  0  0.996578   \n",
       "...               ...             ...                ...       ...   \n",
       "5124                0               0                  1  0.999316   \n",
       "5128                0               0                  0  0.999316   \n",
       "5130                0               0                  1  0.711841   \n",
       "5131                0               0                  0  0.517454   \n",
       "5133                0               0                  0  0.506502   \n",
       "\n",
       "      exacerbation_frequency  censor_time  target  \n",
       "0                          3     0.996578       1  \n",
       "3                          8     0.996578       1  \n",
       "8                          7     0.999316       1  \n",
       "15                         1     0.996578       0  \n",
       "17                         2     0.996578       1  \n",
       "...                      ...          ...     ...  \n",
       "5124                       3     0.999316       1  \n",
       "5128                       1     0.999316       0  \n",
       "5130                       0     0.711841       0  \n",
       "5131                       1     0.517454       0  \n",
       "5133                       0     0.506502       0  \n",
       "\n",
       "[2249 rows x 22 columns]"
      ]
     },
     "execution_count": 7,
     "metadata": {},
     "output_type": "execute_result"
    }
   ],
   "source": [
    "unique_patients"
   ]
  },
  {
   "cell_type": "code",
   "execution_count": 10,
   "metadata": {},
   "outputs": [
    {
     "name": "stdout",
     "output_type": "stream",
     "text": [
      "<class 'pandas.core.frame.DataFrame'>\n",
      "Int64Index: 2249 entries, 0 to 5133\n",
      "Data columns (total 22 columns):\n",
      " #   Column                   Non-Null Count  Dtype  \n",
      "---  ------                   --------------  -----  \n",
      " 0   ID                       2249 non-null   object \n",
      " 1   trial                    2249 non-null   object \n",
      " 2   gender                   2249 non-null   int64  \n",
      " 3   age10                    2249 non-null   float64\n",
      " 4   nowsmk                   2249 non-null   int64  \n",
      " 5   oxygen                   2249 non-null   int64  \n",
      " 6   fev1pp100                2249 non-null   float64\n",
      " 7   bmi10                    2249 non-null   float64\n",
      " 8   sgrq10                   2249 non-null   float64\n",
      " 9   indicated_statin         2249 non-null   int64  \n",
      " 10  randomized_azithromycin  2249 non-null   int64  \n",
      " 11  LAMA                     2249 non-null   int64  \n",
      " 12  LABA                     2249 non-null   int64  \n",
      " 13  ICS                      2249 non-null   int64  \n",
      " 14  randomized_LAMA          2249 non-null   int64  \n",
      " 15  randomized_LABA          2249 non-null   int64  \n",
      " 16  randomized_ICS           2249 non-null   int64  \n",
      " 17  randomized_statin        2249 non-null   int64  \n",
      " 18  YIS                      2249 non-null   float64\n",
      " 19  exacerbation_frequency   2249 non-null   int64  \n",
      " 20  censor_time              2249 non-null   float64\n",
      " 21  target                   2249 non-null   int64  \n",
      "dtypes: float64(6), int64(14), object(2)\n",
      "memory usage: 404.1+ KB\n"
     ]
    }
   ],
   "source": [
    "unique_patients.info()"
   ]
  },
  {
   "cell_type": "code",
   "execution_count": 9,
   "metadata": {},
   "outputs": [],
   "source": [
    "train_df, test_df = train_test_split(unique_patients, test_size=0.2, random_state=123)"
   ]
  },
  {
   "cell_type": "code",
   "execution_count": 44,
   "metadata": {},
   "outputs": [],
   "source": [
    "drop_features = ['ID', 'trial', 'randomized_azithromycin', 'randomized_LAMA', 'randomized_LABA', 'randomized_ICS', 'randomized_statin', 'YIS', 'exacerbation_frequency', 'censor_time']\n",
    "binary_features = ['gender', 'nowsmk', 'oxygen', 'indicated_statin', 'LAMA', 'LABA', 'ICS']\n",
    "numeric_features = ['age10', 'fev1pp100', 'bmi10', 'sgrq10']"
   ]
  },
  {
   "cell_type": "code",
   "execution_count": 45,
   "metadata": {},
   "outputs": [],
   "source": [
    "preprocessor = make_column_transformer(\n",
    "    (\"drop\", drop_features),\n",
    "    (OneHotEncoder(drop=\"if_binary\", dtype=int), binary_features),\n",
    "    (StandardScaler(), numeric_features))"
   ]
  },
  {
   "cell_type": "code",
   "execution_count": 46,
   "metadata": {},
   "outputs": [],
   "source": [
    "X_train, y_train = train_df.drop(columns=['target']), train_df['target']\n",
    "X_test, y_test = test_df.drop(columns=['target']), test_df['target']"
   ]
  },
  {
   "cell_type": "code",
   "execution_count": 47,
   "metadata": {},
   "outputs": [
    {
     "data": {
      "text/plain": [
       "fit_time       0.001130\n",
       "score_time     0.000302\n",
       "test_score     0.635353\n",
       "train_score    0.635353\n",
       "dtype: float64"
      ]
     },
     "execution_count": 47,
     "metadata": {},
     "output_type": "execute_result"
    }
   ],
   "source": [
    "dummy = DummyClassifier(strategy=\"most_frequent\")\n",
    "pd.DataFrame(\n",
    "    cross_validate(\n",
    "        dummy,\n",
    "        X_train,\n",
    "        y_train,\n",
    "        return_train_score=True\n",
    "    )\n",
    ").mean()"
   ]
  },
  {
   "cell_type": "code",
   "execution_count": 41,
   "metadata": {},
   "outputs": [
    {
     "data": {
      "text/plain": [
       "fit_time       0.018792\n",
       "score_time     0.006240\n",
       "test_score     0.634797\n",
       "train_score    0.646887\n",
       "dtype: float64"
      ]
     },
     "execution_count": 41,
     "metadata": {},
     "output_type": "execute_result"
    }
   ],
   "source": [
    "results_df = {}\n",
    "pipe = make_pipeline(preprocessor, LogisticRegression(max_iter=1000, random_state=123))\n",
    "scores = cross_validate(pipe, X_train, y_train, return_train_score=True)\n",
    "pd.DataFrame(scores).mean()"
   ]
  },
  {
   "cell_type": "code",
   "execution_count": 43,
   "metadata": {},
   "outputs": [
    {
     "data": {
      "text/plain": [
       "fit_time       0.080493\n",
       "score_time     0.008247\n",
       "test_score     0.613090\n",
       "train_score    0.978598\n",
       "dtype: float64"
      ]
     },
     "execution_count": 43,
     "metadata": {},
     "output_type": "execute_result"
    }
   ],
   "source": [
    "results_df = {}\n",
    "pipe = make_pipeline(preprocessor, LGBMClassifier(random_state=123))\n",
    "scores = cross_validate(pipe, X_train, y_train, return_train_score=True)\n",
    "pd.DataFrame(scores).mean()"
   ]
  },
  {
   "cell_type": "code",
   "execution_count": 49,
   "metadata": {},
   "outputs": [
    {
     "data": {
      "text/plain": [
       "fit_time       0.118199\n",
       "score_time     0.012803\n",
       "test_score     0.589208\n",
       "train_score    0.998332\n",
       "dtype: float64"
      ]
     },
     "execution_count": 49,
     "metadata": {},
     "output_type": "execute_result"
    }
   ],
   "source": [
    "results_df = {}\n",
    "pipe = make_pipeline(preprocessor, XGBClassifier(random_state=123))\n",
    "scores = cross_validate(pipe, X_train, y_train, return_train_score=True)\n",
    "pd.DataFrame(scores).mean()"
   ]
  },
  {
   "cell_type": "code",
   "execution_count": null,
   "metadata": {},
   "outputs": [],
   "source": []
  }
 ],
 "metadata": {
  "kernelspec": {
   "display_name": "Python 3",
   "language": "python",
   "name": "python3"
  },
  "language_info": {
   "codemirror_mode": {
    "name": "ipython",
    "version": 3
   },
   "file_extension": ".py",
   "mimetype": "text/x-python",
   "name": "python",
   "nbconvert_exporter": "python",
   "pygments_lexer": "ipython3",
   "version": "3.7.6"
  }
 },
 "nbformat": 4,
 "nbformat_minor": 5
}
